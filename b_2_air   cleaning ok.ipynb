{
 "cells": [
  {
   "cell_type": "markdown",
   "id": "d8fd1074",
   "metadata": {},
   "source": [
    "<a target=\"_blank\" href=\"https://colab.research.google.com/github/RanjeetKumbhar01/TE_IT_DSBDA_ASSIGNMENTS_SPPU/blob/main/Group_B/B_4/b_4_air.ipynb\">\n",
    "  <img align=\"left\" alt=\"Goolge Colab\"  src=\"https://colab.research.google.com/assets/colab-badge.svg\" alt=\"Open In Colab\"/>\n",
    "</a>\n",
    "<br>\n",
    "\n",
    "### Operations:\n",
    "a. Data cleaning<br>\n",
    "b. Data integration<br>\n",
    "c. Data transformation<br>\n",
    "d. Error correcting<br>"
   ]
  },
  {
   "cell_type": "code",
   "execution_count": 1,
   "id": "a7b1f452",
   "metadata": {},
   "outputs": [
    {
     "name": "stderr",
     "output_type": "stream",
     "text": [
      "C:\\Users\\Vaibhav\\AppData\\Local\\Temp\\ipykernel_14256\\2162656668.py:1: DeprecationWarning: \n",
      "Pyarrow will become a required dependency of pandas in the next major release of pandas (pandas 3.0),\n",
      "(to allow more performant data types, such as the Arrow string type, and better interoperability with other libraries)\n",
      "but was not found to be installed on your system.\n",
      "If this would cause problems for you,\n",
      "please provide us feedback at https://github.com/pandas-dev/pandas/issues/54466\n",
      "        \n",
      "  import pandas as pd\n"
     ]
    }
   ],
   "source": [
    "import pandas as pd\n",
    "import numpy as np"
   ]
  },
  {
   "cell_type": "code",
   "execution_count": 2,
   "id": "f9cc47e0",
   "metadata": {},
   "outputs": [
    {
     "ename": "FileNotFoundError",
     "evalue": "[Errno 2] No such file or directory: 'airquality_data.csv'",
     "output_type": "error",
     "traceback": [
      "\u001b[1;31m---------------------------------------------------------------------------\u001b[0m",
      "\u001b[1;31mFileNotFoundError\u001b[0m                         Traceback (most recent call last)",
      "Cell \u001b[1;32mIn[2], line 2\u001b[0m\n\u001b[0;32m      1\u001b[0m \u001b[38;5;66;03m# Assuming the first column is named 'Column_Name'\u001b[39;00m\n\u001b[1;32m----> 2\u001b[0m df \u001b[38;5;241m=\u001b[39m \u001b[43mpd\u001b[49m\u001b[38;5;241;43m.\u001b[39;49m\u001b[43mread_csv\u001b[49m\u001b[43m(\u001b[49m\u001b[38;5;124;43m'\u001b[39;49m\u001b[38;5;124;43mairquality_data.csv\u001b[39;49m\u001b[38;5;124;43m'\u001b[39;49m\u001b[43m,\u001b[49m\u001b[43m \u001b[49m\u001b[43mencoding\u001b[49m\u001b[38;5;241;43m=\u001b[39;49m\u001b[38;5;124;43m'\u001b[39;49m\u001b[38;5;124;43mcp1252\u001b[39;49m\u001b[38;5;124;43m'\u001b[39;49m\u001b[43m,\u001b[49m\u001b[43m \u001b[49m\u001b[43mdtype\u001b[49m\u001b[38;5;241;43m=\u001b[39;49m\u001b[43m{\u001b[49m\u001b[38;5;124;43m'\u001b[39;49m\u001b[38;5;124;43mColumn_Name\u001b[39;49m\u001b[38;5;124;43m'\u001b[39;49m\u001b[43m:\u001b[49m\u001b[43m \u001b[49m\u001b[38;5;28;43mstr\u001b[39;49m\u001b[43m}\u001b[49m\u001b[43m,\u001b[49m\u001b[43m \u001b[49m\u001b[43mlow_memory\u001b[49m\u001b[38;5;241;43m=\u001b[39;49m\u001b[38;5;28;43;01mFalse\u001b[39;49;00m\u001b[43m)\u001b[49m\n",
      "File \u001b[1;32m~\\AppData\\Local\\Packages\\PythonSoftwareFoundation.Python.3.11_qbz5n2kfra8p0\\LocalCache\\local-packages\\Python311\\site-packages\\pandas\\io\\parsers\\readers.py:1024\u001b[0m, in \u001b[0;36mread_csv\u001b[1;34m(filepath_or_buffer, sep, delimiter, header, names, index_col, usecols, dtype, engine, converters, true_values, false_values, skipinitialspace, skiprows, skipfooter, nrows, na_values, keep_default_na, na_filter, verbose, skip_blank_lines, parse_dates, infer_datetime_format, keep_date_col, date_parser, date_format, dayfirst, cache_dates, iterator, chunksize, compression, thousands, decimal, lineterminator, quotechar, quoting, doublequote, escapechar, comment, encoding, encoding_errors, dialect, on_bad_lines, delim_whitespace, low_memory, memory_map, float_precision, storage_options, dtype_backend)\u001b[0m\n\u001b[0;32m   1011\u001b[0m kwds_defaults \u001b[38;5;241m=\u001b[39m _refine_defaults_read(\n\u001b[0;32m   1012\u001b[0m     dialect,\n\u001b[0;32m   1013\u001b[0m     delimiter,\n\u001b[1;32m   (...)\u001b[0m\n\u001b[0;32m   1020\u001b[0m     dtype_backend\u001b[38;5;241m=\u001b[39mdtype_backend,\n\u001b[0;32m   1021\u001b[0m )\n\u001b[0;32m   1022\u001b[0m kwds\u001b[38;5;241m.\u001b[39mupdate(kwds_defaults)\n\u001b[1;32m-> 1024\u001b[0m \u001b[38;5;28;01mreturn\u001b[39;00m \u001b[43m_read\u001b[49m\u001b[43m(\u001b[49m\u001b[43mfilepath_or_buffer\u001b[49m\u001b[43m,\u001b[49m\u001b[43m \u001b[49m\u001b[43mkwds\u001b[49m\u001b[43m)\u001b[49m\n",
      "File \u001b[1;32m~\\AppData\\Local\\Packages\\PythonSoftwareFoundation.Python.3.11_qbz5n2kfra8p0\\LocalCache\\local-packages\\Python311\\site-packages\\pandas\\io\\parsers\\readers.py:618\u001b[0m, in \u001b[0;36m_read\u001b[1;34m(filepath_or_buffer, kwds)\u001b[0m\n\u001b[0;32m    615\u001b[0m _validate_names(kwds\u001b[38;5;241m.\u001b[39mget(\u001b[38;5;124m\"\u001b[39m\u001b[38;5;124mnames\u001b[39m\u001b[38;5;124m\"\u001b[39m, \u001b[38;5;28;01mNone\u001b[39;00m))\n\u001b[0;32m    617\u001b[0m \u001b[38;5;66;03m# Create the parser.\u001b[39;00m\n\u001b[1;32m--> 618\u001b[0m parser \u001b[38;5;241m=\u001b[39m \u001b[43mTextFileReader\u001b[49m\u001b[43m(\u001b[49m\u001b[43mfilepath_or_buffer\u001b[49m\u001b[43m,\u001b[49m\u001b[43m \u001b[49m\u001b[38;5;241;43m*\u001b[39;49m\u001b[38;5;241;43m*\u001b[39;49m\u001b[43mkwds\u001b[49m\u001b[43m)\u001b[49m\n\u001b[0;32m    620\u001b[0m \u001b[38;5;28;01mif\u001b[39;00m chunksize \u001b[38;5;129;01mor\u001b[39;00m iterator:\n\u001b[0;32m    621\u001b[0m     \u001b[38;5;28;01mreturn\u001b[39;00m parser\n",
      "File \u001b[1;32m~\\AppData\\Local\\Packages\\PythonSoftwareFoundation.Python.3.11_qbz5n2kfra8p0\\LocalCache\\local-packages\\Python311\\site-packages\\pandas\\io\\parsers\\readers.py:1618\u001b[0m, in \u001b[0;36mTextFileReader.__init__\u001b[1;34m(self, f, engine, **kwds)\u001b[0m\n\u001b[0;32m   1615\u001b[0m     \u001b[38;5;28mself\u001b[39m\u001b[38;5;241m.\u001b[39moptions[\u001b[38;5;124m\"\u001b[39m\u001b[38;5;124mhas_index_names\u001b[39m\u001b[38;5;124m\"\u001b[39m] \u001b[38;5;241m=\u001b[39m kwds[\u001b[38;5;124m\"\u001b[39m\u001b[38;5;124mhas_index_names\u001b[39m\u001b[38;5;124m\"\u001b[39m]\n\u001b[0;32m   1617\u001b[0m \u001b[38;5;28mself\u001b[39m\u001b[38;5;241m.\u001b[39mhandles: IOHandles \u001b[38;5;241m|\u001b[39m \u001b[38;5;28;01mNone\u001b[39;00m \u001b[38;5;241m=\u001b[39m \u001b[38;5;28;01mNone\u001b[39;00m\n\u001b[1;32m-> 1618\u001b[0m \u001b[38;5;28mself\u001b[39m\u001b[38;5;241m.\u001b[39m_engine \u001b[38;5;241m=\u001b[39m \u001b[38;5;28;43mself\u001b[39;49m\u001b[38;5;241;43m.\u001b[39;49m\u001b[43m_make_engine\u001b[49m\u001b[43m(\u001b[49m\u001b[43mf\u001b[49m\u001b[43m,\u001b[49m\u001b[43m \u001b[49m\u001b[38;5;28;43mself\u001b[39;49m\u001b[38;5;241;43m.\u001b[39;49m\u001b[43mengine\u001b[49m\u001b[43m)\u001b[49m\n",
      "File \u001b[1;32m~\\AppData\\Local\\Packages\\PythonSoftwareFoundation.Python.3.11_qbz5n2kfra8p0\\LocalCache\\local-packages\\Python311\\site-packages\\pandas\\io\\parsers\\readers.py:1878\u001b[0m, in \u001b[0;36mTextFileReader._make_engine\u001b[1;34m(self, f, engine)\u001b[0m\n\u001b[0;32m   1876\u001b[0m     \u001b[38;5;28;01mif\u001b[39;00m \u001b[38;5;124m\"\u001b[39m\u001b[38;5;124mb\u001b[39m\u001b[38;5;124m\"\u001b[39m \u001b[38;5;129;01mnot\u001b[39;00m \u001b[38;5;129;01min\u001b[39;00m mode:\n\u001b[0;32m   1877\u001b[0m         mode \u001b[38;5;241m+\u001b[39m\u001b[38;5;241m=\u001b[39m \u001b[38;5;124m\"\u001b[39m\u001b[38;5;124mb\u001b[39m\u001b[38;5;124m\"\u001b[39m\n\u001b[1;32m-> 1878\u001b[0m \u001b[38;5;28mself\u001b[39m\u001b[38;5;241m.\u001b[39mhandles \u001b[38;5;241m=\u001b[39m \u001b[43mget_handle\u001b[49m\u001b[43m(\u001b[49m\n\u001b[0;32m   1879\u001b[0m \u001b[43m    \u001b[49m\u001b[43mf\u001b[49m\u001b[43m,\u001b[49m\n\u001b[0;32m   1880\u001b[0m \u001b[43m    \u001b[49m\u001b[43mmode\u001b[49m\u001b[43m,\u001b[49m\n\u001b[0;32m   1881\u001b[0m \u001b[43m    \u001b[49m\u001b[43mencoding\u001b[49m\u001b[38;5;241;43m=\u001b[39;49m\u001b[38;5;28;43mself\u001b[39;49m\u001b[38;5;241;43m.\u001b[39;49m\u001b[43moptions\u001b[49m\u001b[38;5;241;43m.\u001b[39;49m\u001b[43mget\u001b[49m\u001b[43m(\u001b[49m\u001b[38;5;124;43m\"\u001b[39;49m\u001b[38;5;124;43mencoding\u001b[39;49m\u001b[38;5;124;43m\"\u001b[39;49m\u001b[43m,\u001b[49m\u001b[43m \u001b[49m\u001b[38;5;28;43;01mNone\u001b[39;49;00m\u001b[43m)\u001b[49m\u001b[43m,\u001b[49m\n\u001b[0;32m   1882\u001b[0m \u001b[43m    \u001b[49m\u001b[43mcompression\u001b[49m\u001b[38;5;241;43m=\u001b[39;49m\u001b[38;5;28;43mself\u001b[39;49m\u001b[38;5;241;43m.\u001b[39;49m\u001b[43moptions\u001b[49m\u001b[38;5;241;43m.\u001b[39;49m\u001b[43mget\u001b[49m\u001b[43m(\u001b[49m\u001b[38;5;124;43m\"\u001b[39;49m\u001b[38;5;124;43mcompression\u001b[39;49m\u001b[38;5;124;43m\"\u001b[39;49m\u001b[43m,\u001b[49m\u001b[43m \u001b[49m\u001b[38;5;28;43;01mNone\u001b[39;49;00m\u001b[43m)\u001b[49m\u001b[43m,\u001b[49m\n\u001b[0;32m   1883\u001b[0m \u001b[43m    \u001b[49m\u001b[43mmemory_map\u001b[49m\u001b[38;5;241;43m=\u001b[39;49m\u001b[38;5;28;43mself\u001b[39;49m\u001b[38;5;241;43m.\u001b[39;49m\u001b[43moptions\u001b[49m\u001b[38;5;241;43m.\u001b[39;49m\u001b[43mget\u001b[49m\u001b[43m(\u001b[49m\u001b[38;5;124;43m\"\u001b[39;49m\u001b[38;5;124;43mmemory_map\u001b[39;49m\u001b[38;5;124;43m\"\u001b[39;49m\u001b[43m,\u001b[49m\u001b[43m \u001b[49m\u001b[38;5;28;43;01mFalse\u001b[39;49;00m\u001b[43m)\u001b[49m\u001b[43m,\u001b[49m\n\u001b[0;32m   1884\u001b[0m \u001b[43m    \u001b[49m\u001b[43mis_text\u001b[49m\u001b[38;5;241;43m=\u001b[39;49m\u001b[43mis_text\u001b[49m\u001b[43m,\u001b[49m\n\u001b[0;32m   1885\u001b[0m \u001b[43m    \u001b[49m\u001b[43merrors\u001b[49m\u001b[38;5;241;43m=\u001b[39;49m\u001b[38;5;28;43mself\u001b[39;49m\u001b[38;5;241;43m.\u001b[39;49m\u001b[43moptions\u001b[49m\u001b[38;5;241;43m.\u001b[39;49m\u001b[43mget\u001b[49m\u001b[43m(\u001b[49m\u001b[38;5;124;43m\"\u001b[39;49m\u001b[38;5;124;43mencoding_errors\u001b[39;49m\u001b[38;5;124;43m\"\u001b[39;49m\u001b[43m,\u001b[49m\u001b[43m \u001b[49m\u001b[38;5;124;43m\"\u001b[39;49m\u001b[38;5;124;43mstrict\u001b[39;49m\u001b[38;5;124;43m\"\u001b[39;49m\u001b[43m)\u001b[49m\u001b[43m,\u001b[49m\n\u001b[0;32m   1886\u001b[0m \u001b[43m    \u001b[49m\u001b[43mstorage_options\u001b[49m\u001b[38;5;241;43m=\u001b[39;49m\u001b[38;5;28;43mself\u001b[39;49m\u001b[38;5;241;43m.\u001b[39;49m\u001b[43moptions\u001b[49m\u001b[38;5;241;43m.\u001b[39;49m\u001b[43mget\u001b[49m\u001b[43m(\u001b[49m\u001b[38;5;124;43m\"\u001b[39;49m\u001b[38;5;124;43mstorage_options\u001b[39;49m\u001b[38;5;124;43m\"\u001b[39;49m\u001b[43m,\u001b[49m\u001b[43m \u001b[49m\u001b[38;5;28;43;01mNone\u001b[39;49;00m\u001b[43m)\u001b[49m\u001b[43m,\u001b[49m\n\u001b[0;32m   1887\u001b[0m \u001b[43m\u001b[49m\u001b[43m)\u001b[49m\n\u001b[0;32m   1888\u001b[0m \u001b[38;5;28;01massert\u001b[39;00m \u001b[38;5;28mself\u001b[39m\u001b[38;5;241m.\u001b[39mhandles \u001b[38;5;129;01mis\u001b[39;00m \u001b[38;5;129;01mnot\u001b[39;00m \u001b[38;5;28;01mNone\u001b[39;00m\n\u001b[0;32m   1889\u001b[0m f \u001b[38;5;241m=\u001b[39m \u001b[38;5;28mself\u001b[39m\u001b[38;5;241m.\u001b[39mhandles\u001b[38;5;241m.\u001b[39mhandle\n",
      "File \u001b[1;32m~\\AppData\\Local\\Packages\\PythonSoftwareFoundation.Python.3.11_qbz5n2kfra8p0\\LocalCache\\local-packages\\Python311\\site-packages\\pandas\\io\\common.py:873\u001b[0m, in \u001b[0;36mget_handle\u001b[1;34m(path_or_buf, mode, encoding, compression, memory_map, is_text, errors, storage_options)\u001b[0m\n\u001b[0;32m    868\u001b[0m \u001b[38;5;28;01melif\u001b[39;00m \u001b[38;5;28misinstance\u001b[39m(handle, \u001b[38;5;28mstr\u001b[39m):\n\u001b[0;32m    869\u001b[0m     \u001b[38;5;66;03m# Check whether the filename is to be opened in binary mode.\u001b[39;00m\n\u001b[0;32m    870\u001b[0m     \u001b[38;5;66;03m# Binary mode does not support 'encoding' and 'newline'.\u001b[39;00m\n\u001b[0;32m    871\u001b[0m     \u001b[38;5;28;01mif\u001b[39;00m ioargs\u001b[38;5;241m.\u001b[39mencoding \u001b[38;5;129;01mand\u001b[39;00m \u001b[38;5;124m\"\u001b[39m\u001b[38;5;124mb\u001b[39m\u001b[38;5;124m\"\u001b[39m \u001b[38;5;129;01mnot\u001b[39;00m \u001b[38;5;129;01min\u001b[39;00m ioargs\u001b[38;5;241m.\u001b[39mmode:\n\u001b[0;32m    872\u001b[0m         \u001b[38;5;66;03m# Encoding\u001b[39;00m\n\u001b[1;32m--> 873\u001b[0m         handle \u001b[38;5;241m=\u001b[39m \u001b[38;5;28;43mopen\u001b[39;49m\u001b[43m(\u001b[49m\n\u001b[0;32m    874\u001b[0m \u001b[43m            \u001b[49m\u001b[43mhandle\u001b[49m\u001b[43m,\u001b[49m\n\u001b[0;32m    875\u001b[0m \u001b[43m            \u001b[49m\u001b[43mioargs\u001b[49m\u001b[38;5;241;43m.\u001b[39;49m\u001b[43mmode\u001b[49m\u001b[43m,\u001b[49m\n\u001b[0;32m    876\u001b[0m \u001b[43m            \u001b[49m\u001b[43mencoding\u001b[49m\u001b[38;5;241;43m=\u001b[39;49m\u001b[43mioargs\u001b[49m\u001b[38;5;241;43m.\u001b[39;49m\u001b[43mencoding\u001b[49m\u001b[43m,\u001b[49m\n\u001b[0;32m    877\u001b[0m \u001b[43m            \u001b[49m\u001b[43merrors\u001b[49m\u001b[38;5;241;43m=\u001b[39;49m\u001b[43merrors\u001b[49m\u001b[43m,\u001b[49m\n\u001b[0;32m    878\u001b[0m \u001b[43m            \u001b[49m\u001b[43mnewline\u001b[49m\u001b[38;5;241;43m=\u001b[39;49m\u001b[38;5;124;43m\"\u001b[39;49m\u001b[38;5;124;43m\"\u001b[39;49m\u001b[43m,\u001b[49m\n\u001b[0;32m    879\u001b[0m \u001b[43m        \u001b[49m\u001b[43m)\u001b[49m\n\u001b[0;32m    880\u001b[0m     \u001b[38;5;28;01melse\u001b[39;00m:\n\u001b[0;32m    881\u001b[0m         \u001b[38;5;66;03m# Binary mode\u001b[39;00m\n\u001b[0;32m    882\u001b[0m         handle \u001b[38;5;241m=\u001b[39m \u001b[38;5;28mopen\u001b[39m(handle, ioargs\u001b[38;5;241m.\u001b[39mmode)\n",
      "\u001b[1;31mFileNotFoundError\u001b[0m: [Errno 2] No such file or directory: 'airquality_data.csv'"
     ]
    }
   ],
   "source": [
    "# Assuming the first column is named 'Column_Name'\n",
    "df = pd.read_csv('airquality_data.csv', encoding='cp1252', dtype={'Column_Name': str}, low_memory=False)\n"
   ]
  },
  {
   "cell_type": "code",
   "execution_count": 3,
   "id": "901229c6",
   "metadata": {},
   "outputs": [
    {
     "ename": "NameError",
     "evalue": "name 'df' is not defined",
     "output_type": "error",
     "traceback": [
      "\u001b[1;31m---------------------------------------------------------------------------\u001b[0m",
      "\u001b[1;31mNameError\u001b[0m                                 Traceback (most recent call last)",
      "Cell \u001b[1;32mIn[3], line 1\u001b[0m\n\u001b[1;32m----> 1\u001b[0m \u001b[43mdf\u001b[49m\u001b[38;5;241m.\u001b[39mhead()\n",
      "\u001b[1;31mNameError\u001b[0m: name 'df' is not defined"
     ]
    }
   ],
   "source": [
    "df.head()"
   ]
  },
  {
   "cell_type": "code",
   "execution_count": 4,
   "id": "d554bacd",
   "metadata": {},
   "outputs": [
    {
     "name": "stdout",
     "output_type": "stream",
     "text": [
      "<class 'pandas.core.frame.DataFrame'>\n",
      "RangeIndex: 435742 entries, 0 to 435741\n",
      "Data columns (total 13 columns):\n",
      " #   Column                       Non-Null Count   Dtype  \n",
      "---  ------                       --------------   -----  \n",
      " 0   stn_code                     291665 non-null  object \n",
      " 1   sampling_date                435739 non-null  object \n",
      " 2   state                        435742 non-null  object \n",
      " 3   location                     435739 non-null  object \n",
      " 4   agency                       286261 non-null  object \n",
      " 5   type                         430349 non-null  object \n",
      " 6   so2                          401096 non-null  float64\n",
      " 7   no2                          419509 non-null  float64\n",
      " 8   rspm                         395520 non-null  float64\n",
      " 9   spm                          198355 non-null  float64\n",
      " 10  location_monitoring_station  408251 non-null  object \n",
      " 11  pm2_5                        9314 non-null    float64\n",
      " 12  date                         435735 non-null  object \n",
      "dtypes: float64(5), object(8)\n",
      "memory usage: 43.2+ MB\n"
     ]
    }
   ],
   "source": [
    "df.info()"
   ]
  },
  {
   "cell_type": "code",
   "execution_count": 5,
   "id": "5373edae",
   "metadata": {},
   "outputs": [
    {
     "data": {
      "text/plain": [
       "Index(['stn_code', 'sampling_date', 'state', 'location', 'agency', 'type',\n",
       "       'so2', 'no2', 'rspm', 'spm', 'location_monitoring_station', 'pm2_5',\n",
       "       'date'],\n",
       "      dtype='object')"
      ]
     },
     "execution_count": 5,
     "metadata": {},
     "output_type": "execute_result"
    }
   ],
   "source": [
    "df.columns"
   ]
  },
  {
   "cell_type": "markdown",
   "id": "4b95da78",
   "metadata": {},
   "source": [
    "### Data Cleaning"
   ]
  },
  {
   "cell_type": "code",
   "execution_count": 6,
   "id": "3e818589",
   "metadata": {},
   "outputs": [
    {
     "name": "stdout",
     "output_type": "stream",
     "text": [
      "<class 'pandas.core.frame.DataFrame'>\n",
      "RangeIndex: 435742 entries, 0 to 435741\n",
      "Data columns (total 13 columns):\n",
      " #   Column                       Non-Null Count   Dtype  \n",
      "---  ------                       --------------   -----  \n",
      " 0   stn_code                     291665 non-null  object \n",
      " 1   sampling_date                435739 non-null  object \n",
      " 2   state                        435742 non-null  object \n",
      " 3   location                     435739 non-null  object \n",
      " 4   agency                       286261 non-null  object \n",
      " 5   type                         430349 non-null  object \n",
      " 6   so2                          401096 non-null  float32\n",
      " 7   no2                          419509 non-null  float32\n",
      " 8   rspm                         395520 non-null  float32\n",
      " 9   spm                          198355 non-null  float32\n",
      " 10  location_monitoring_station  408251 non-null  object \n",
      " 11  pm2_5                        9314 non-null    float64\n",
      " 12  date                         435735 non-null  string \n",
      "dtypes: float32(4), float64(1), object(7), string(1)\n",
      "memory usage: 36.6+ MB\n"
     ]
    }
   ],
   "source": [
    "# Change data type from float64 to float32 for Space Complexity\n",
    "df['so2'] = df['so2'].astype('float32')\n",
    "df['no2'] = df['no2'].astype('float32')\n",
    "df['rspm'] = df['rspm'].astype('float32')\n",
    "df['spm'] = df['spm'].astype('float32')\n",
    "df['date'] = df['date'].astype('string')\n",
    "\n",
    "df.info()"
   ]
  },
  {
   "cell_type": "code",
   "execution_count": 7,
   "id": "5eb0c5e4",
   "metadata": {},
   "outputs": [],
   "source": [
    "df=df.drop_duplicates()"
   ]
  },
  {
   "cell_type": "code",
   "execution_count": 8,
   "id": "3027f5ea",
   "metadata": {},
   "outputs": [
    {
     "data": {
      "text/plain": [
       "stn_code                       144077\n",
       "sampling_date                       3\n",
       "state                               0\n",
       "location                            3\n",
       "agency                         149466\n",
       "type                             5357\n",
       "so2                             34632\n",
       "no2                             16222\n",
       "rspm                            40035\n",
       "spm                            236908\n",
       "location_monitoring_station     27303\n",
       "pm2_5                          425754\n",
       "date                                7\n",
       "dtype: int64"
      ]
     },
     "execution_count": 8,
     "metadata": {},
     "output_type": "execute_result"
    }
   ],
   "source": [
    "df.isna().sum()"
   ]
  },
  {
   "cell_type": "code",
   "execution_count": 9,
   "id": "e37244d4",
   "metadata": {},
   "outputs": [],
   "source": [
    "percent_missing = df.isnull().sum() * 100 / len(df)"
   ]
  },
  {
   "cell_type": "code",
   "execution_count": 10,
   "id": "a873d85d",
   "metadata": {},
   "outputs": [
    {
     "data": {
      "text/plain": [
       "pm2_5                          97.859185\n",
       "spm                            54.453097\n",
       "agency                         34.354630\n",
       "stn_code                       33.115973\n",
       "rspm                            9.202010\n",
       "so2                             7.960135\n",
       "location_monitoring_station     6.275571\n",
       "no2                             3.728613\n",
       "type                            1.231302\n",
       "date                            0.001609\n",
       "sampling_date                   0.000690\n",
       "location                        0.000690\n",
       "state                           0.000000\n",
       "dtype: float64"
      ]
     },
     "execution_count": 10,
     "metadata": {},
     "output_type": "execute_result"
    }
   ],
   "source": [
    "percent_missing.sort_values(ascending=False)"
   ]
  },
  {
   "cell_type": "code",
   "execution_count": 11,
   "id": "a08eb765",
   "metadata": {},
   "outputs": [],
   "source": [
    "df=df.drop(['stn_code', 'agency','sampling_date','location_monitoring_station','pm2_5'], axis = 1)"
   ]
  },
  {
   "cell_type": "code",
   "execution_count": 12,
   "id": "fe00eb66",
   "metadata": {},
   "outputs": [
    {
     "data": {
      "text/html": [
       "<div>\n",
       "<style scoped>\n",
       "    .dataframe tbody tr th:only-of-type {\n",
       "        vertical-align: middle;\n",
       "    }\n",
       "\n",
       "    .dataframe tbody tr th {\n",
       "        vertical-align: top;\n",
       "    }\n",
       "\n",
       "    .dataframe thead th {\n",
       "        text-align: right;\n",
       "    }\n",
       "</style>\n",
       "<table border=\"1\" class=\"dataframe\">\n",
       "  <thead>\n",
       "    <tr style=\"text-align: right;\">\n",
       "      <th></th>\n",
       "      <th>state</th>\n",
       "      <th>location</th>\n",
       "      <th>type</th>\n",
       "      <th>so2</th>\n",
       "      <th>no2</th>\n",
       "      <th>rspm</th>\n",
       "      <th>spm</th>\n",
       "      <th>date</th>\n",
       "    </tr>\n",
       "  </thead>\n",
       "  <tbody>\n",
       "    <tr>\n",
       "      <th>0</th>\n",
       "      <td>Andhra Pradesh</td>\n",
       "      <td>Hyderabad</td>\n",
       "      <td>Residential, Rural and other Areas</td>\n",
       "      <td>4.8</td>\n",
       "      <td>17.4</td>\n",
       "      <td>NaN</td>\n",
       "      <td>NaN</td>\n",
       "      <td>1990-02-01</td>\n",
       "    </tr>\n",
       "    <tr>\n",
       "      <th>1</th>\n",
       "      <td>Andhra Pradesh</td>\n",
       "      <td>Hyderabad</td>\n",
       "      <td>Industrial Area</td>\n",
       "      <td>3.1</td>\n",
       "      <td>7.0</td>\n",
       "      <td>NaN</td>\n",
       "      <td>NaN</td>\n",
       "      <td>1990-02-01</td>\n",
       "    </tr>\n",
       "    <tr>\n",
       "      <th>2</th>\n",
       "      <td>Andhra Pradesh</td>\n",
       "      <td>Hyderabad</td>\n",
       "      <td>Residential, Rural and other Areas</td>\n",
       "      <td>6.2</td>\n",
       "      <td>28.5</td>\n",
       "      <td>NaN</td>\n",
       "      <td>NaN</td>\n",
       "      <td>1990-02-01</td>\n",
       "    </tr>\n",
       "    <tr>\n",
       "      <th>3</th>\n",
       "      <td>Andhra Pradesh</td>\n",
       "      <td>Hyderabad</td>\n",
       "      <td>Residential, Rural and other Areas</td>\n",
       "      <td>6.3</td>\n",
       "      <td>14.7</td>\n",
       "      <td>NaN</td>\n",
       "      <td>NaN</td>\n",
       "      <td>1990-03-01</td>\n",
       "    </tr>\n",
       "    <tr>\n",
       "      <th>4</th>\n",
       "      <td>Andhra Pradesh</td>\n",
       "      <td>Hyderabad</td>\n",
       "      <td>Industrial Area</td>\n",
       "      <td>4.7</td>\n",
       "      <td>7.5</td>\n",
       "      <td>NaN</td>\n",
       "      <td>NaN</td>\n",
       "      <td>1990-03-01</td>\n",
       "    </tr>\n",
       "  </tbody>\n",
       "</table>\n",
       "</div>"
      ],
      "text/plain": [
       "            state   location                                type  so2   no2  \\\n",
       "0  Andhra Pradesh  Hyderabad  Residential, Rural and other Areas  4.8  17.4   \n",
       "1  Andhra Pradesh  Hyderabad                     Industrial Area  3.1   7.0   \n",
       "2  Andhra Pradesh  Hyderabad  Residential, Rural and other Areas  6.2  28.5   \n",
       "3  Andhra Pradesh  Hyderabad  Residential, Rural and other Areas  6.3  14.7   \n",
       "4  Andhra Pradesh  Hyderabad                     Industrial Area  4.7   7.5   \n",
       "\n",
       "   rspm  spm        date  \n",
       "0   NaN  NaN  1990-02-01  \n",
       "1   NaN  NaN  1990-02-01  \n",
       "2   NaN  NaN  1990-02-01  \n",
       "3   NaN  NaN  1990-03-01  \n",
       "4   NaN  NaN  1990-03-01  "
      ]
     },
     "execution_count": 12,
     "metadata": {},
     "output_type": "execute_result"
    }
   ],
   "source": [
    "df.head()"
   ]
  },
  {
   "cell_type": "code",
   "execution_count": 13,
   "id": "e498f0c9",
   "metadata": {},
   "outputs": [
    {
     "data": {
      "text/plain": [
       "Index(['state', 'location', 'type', 'so2', 'no2', 'rspm', 'spm', 'date'], dtype='object')"
      ]
     },
     "execution_count": 13,
     "metadata": {},
     "output_type": "execute_result"
    }
   ],
   "source": [
    "df.columns"
   ]
  },
  {
   "cell_type": "code",
   "execution_count": 14,
   "id": "59b5d9a7",
   "metadata": {},
   "outputs": [],
   "source": [
    "col_var = ['state', 'location', 'type','date']\n",
    "col_num = ['so2','no2','rspm','spm']"
   ]
  },
  {
   "cell_type": "code",
   "execution_count": 15,
   "id": "7c3d6ba4",
   "metadata": {},
   "outputs": [],
   "source": [
    "for col in df.columns:\n",
    "    if df[col].dtype == 'object' or df[col].dtype == 'string':\n",
    "        df[col] = df[col].fillna(df[col].mode()[0])\n",
    "    else:\n",
    "        df[col] = df[col].fillna(df[col].mean())"
   ]
  },
  {
   "cell_type": "code",
   "execution_count": 16,
   "id": "1d4d912d",
   "metadata": {},
   "outputs": [
    {
     "data": {
      "text/plain": [
       "state       0\n",
       "location    0\n",
       "type        0\n",
       "so2         0\n",
       "no2         0\n",
       "rspm        0\n",
       "spm         0\n",
       "date        0\n",
       "dtype: int64"
      ]
     },
     "execution_count": 16,
     "metadata": {},
     "output_type": "execute_result"
    }
   ],
   "source": [
    "df.isna().sum()"
   ]
  },
  {
   "cell_type": "code",
   "execution_count": 17,
   "id": "654ca668",
   "metadata": {},
   "outputs": [
    {
     "data": {
      "text/html": [
       "<div>\n",
       "<style scoped>\n",
       "    .dataframe tbody tr th:only-of-type {\n",
       "        vertical-align: middle;\n",
       "    }\n",
       "\n",
       "    .dataframe tbody tr th {\n",
       "        vertical-align: top;\n",
       "    }\n",
       "\n",
       "    .dataframe thead th {\n",
       "        text-align: right;\n",
       "    }\n",
       "</style>\n",
       "<table border=\"1\" class=\"dataframe\">\n",
       "  <thead>\n",
       "    <tr style=\"text-align: right;\">\n",
       "      <th></th>\n",
       "      <th>state</th>\n",
       "      <th>location</th>\n",
       "      <th>type</th>\n",
       "      <th>so2</th>\n",
       "      <th>no2</th>\n",
       "      <th>rspm</th>\n",
       "      <th>spm</th>\n",
       "      <th>date</th>\n",
       "    </tr>\n",
       "  </thead>\n",
       "  <tbody>\n",
       "    <tr>\n",
       "      <th>0</th>\n",
       "      <td>Andhra Pradesh</td>\n",
       "      <td>Hyderabad</td>\n",
       "      <td>Residential, Rural and other Areas</td>\n",
       "      <td>4.800000</td>\n",
       "      <td>17.400000</td>\n",
       "      <td>108.871712</td>\n",
       "      <td>220.774796</td>\n",
       "      <td>1990-02-01</td>\n",
       "    </tr>\n",
       "    <tr>\n",
       "      <th>1</th>\n",
       "      <td>Andhra Pradesh</td>\n",
       "      <td>Hyderabad</td>\n",
       "      <td>Industrial Area</td>\n",
       "      <td>3.100000</td>\n",
       "      <td>7.000000</td>\n",
       "      <td>108.871712</td>\n",
       "      <td>220.774796</td>\n",
       "      <td>1990-02-01</td>\n",
       "    </tr>\n",
       "    <tr>\n",
       "      <th>2</th>\n",
       "      <td>Andhra Pradesh</td>\n",
       "      <td>Hyderabad</td>\n",
       "      <td>Residential, Rural and other Areas</td>\n",
       "      <td>6.200000</td>\n",
       "      <td>28.500000</td>\n",
       "      <td>108.871712</td>\n",
       "      <td>220.774796</td>\n",
       "      <td>1990-02-01</td>\n",
       "    </tr>\n",
       "    <tr>\n",
       "      <th>3</th>\n",
       "      <td>Andhra Pradesh</td>\n",
       "      <td>Hyderabad</td>\n",
       "      <td>Residential, Rural and other Areas</td>\n",
       "      <td>6.300000</td>\n",
       "      <td>14.700000</td>\n",
       "      <td>108.871712</td>\n",
       "      <td>220.774796</td>\n",
       "      <td>1990-03-01</td>\n",
       "    </tr>\n",
       "    <tr>\n",
       "      <th>4</th>\n",
       "      <td>Andhra Pradesh</td>\n",
       "      <td>Hyderabad</td>\n",
       "      <td>Industrial Area</td>\n",
       "      <td>4.700000</td>\n",
       "      <td>7.500000</td>\n",
       "      <td>108.871712</td>\n",
       "      <td>220.774796</td>\n",
       "      <td>1990-03-01</td>\n",
       "    </tr>\n",
       "    <tr>\n",
       "      <th>...</th>\n",
       "      <td>...</td>\n",
       "      <td>...</td>\n",
       "      <td>...</td>\n",
       "      <td>...</td>\n",
       "      <td>...</td>\n",
       "      <td>...</td>\n",
       "      <td>...</td>\n",
       "      <td>...</td>\n",
       "    </tr>\n",
       "    <tr>\n",
       "      <th>435737</th>\n",
       "      <td>West Bengal</td>\n",
       "      <td>ULUBERIA</td>\n",
       "      <td>RIRUO</td>\n",
       "      <td>22.000000</td>\n",
       "      <td>50.000000</td>\n",
       "      <td>143.000000</td>\n",
       "      <td>220.774796</td>\n",
       "      <td>2015-12-24</td>\n",
       "    </tr>\n",
       "    <tr>\n",
       "      <th>435738</th>\n",
       "      <td>West Bengal</td>\n",
       "      <td>ULUBERIA</td>\n",
       "      <td>RIRUO</td>\n",
       "      <td>20.000000</td>\n",
       "      <td>46.000000</td>\n",
       "      <td>171.000000</td>\n",
       "      <td>220.774796</td>\n",
       "      <td>2015-12-29</td>\n",
       "    </tr>\n",
       "    <tr>\n",
       "      <th>435739</th>\n",
       "      <td>andaman-and-nicobar-islands</td>\n",
       "      <td>Guwahati</td>\n",
       "      <td>Residential, Rural and other Areas</td>\n",
       "      <td>10.830467</td>\n",
       "      <td>25.823299</td>\n",
       "      <td>108.871712</td>\n",
       "      <td>220.774796</td>\n",
       "      <td>2015-03-19</td>\n",
       "    </tr>\n",
       "    <tr>\n",
       "      <th>435740</th>\n",
       "      <td>Lakshadweep</td>\n",
       "      <td>Guwahati</td>\n",
       "      <td>Residential, Rural and other Areas</td>\n",
       "      <td>10.830467</td>\n",
       "      <td>25.823299</td>\n",
       "      <td>108.871712</td>\n",
       "      <td>220.774796</td>\n",
       "      <td>2015-03-19</td>\n",
       "    </tr>\n",
       "    <tr>\n",
       "      <th>435741</th>\n",
       "      <td>Tripura</td>\n",
       "      <td>Guwahati</td>\n",
       "      <td>Residential, Rural and other Areas</td>\n",
       "      <td>10.830467</td>\n",
       "      <td>25.823299</td>\n",
       "      <td>108.871712</td>\n",
       "      <td>220.774796</td>\n",
       "      <td>2015-03-19</td>\n",
       "    </tr>\n",
       "  </tbody>\n",
       "</table>\n",
       "<p>435068 rows × 8 columns</p>\n",
       "</div>"
      ],
      "text/plain": [
       "                              state   location  \\\n",
       "0                    Andhra Pradesh  Hyderabad   \n",
       "1                    Andhra Pradesh  Hyderabad   \n",
       "2                    Andhra Pradesh  Hyderabad   \n",
       "3                    Andhra Pradesh  Hyderabad   \n",
       "4                    Andhra Pradesh  Hyderabad   \n",
       "...                             ...        ...   \n",
       "435737                  West Bengal   ULUBERIA   \n",
       "435738                  West Bengal   ULUBERIA   \n",
       "435739  andaman-and-nicobar-islands   Guwahati   \n",
       "435740                  Lakshadweep   Guwahati   \n",
       "435741                      Tripura   Guwahati   \n",
       "\n",
       "                                      type        so2        no2        rspm  \\\n",
       "0       Residential, Rural and other Areas   4.800000  17.400000  108.871712   \n",
       "1                          Industrial Area   3.100000   7.000000  108.871712   \n",
       "2       Residential, Rural and other Areas   6.200000  28.500000  108.871712   \n",
       "3       Residential, Rural and other Areas   6.300000  14.700000  108.871712   \n",
       "4                          Industrial Area   4.700000   7.500000  108.871712   \n",
       "...                                    ...        ...        ...         ...   \n",
       "435737                               RIRUO  22.000000  50.000000  143.000000   \n",
       "435738                               RIRUO  20.000000  46.000000  171.000000   \n",
       "435739  Residential, Rural and other Areas  10.830467  25.823299  108.871712   \n",
       "435740  Residential, Rural and other Areas  10.830467  25.823299  108.871712   \n",
       "435741  Residential, Rural and other Areas  10.830467  25.823299  108.871712   \n",
       "\n",
       "               spm        date  \n",
       "0       220.774796  1990-02-01  \n",
       "1       220.774796  1990-02-01  \n",
       "2       220.774796  1990-02-01  \n",
       "3       220.774796  1990-03-01  \n",
       "4       220.774796  1990-03-01  \n",
       "...            ...         ...  \n",
       "435737  220.774796  2015-12-24  \n",
       "435738  220.774796  2015-12-29  \n",
       "435739  220.774796  2015-03-19  \n",
       "435740  220.774796  2015-03-19  \n",
       "435741  220.774796  2015-03-19  \n",
       "\n",
       "[435068 rows x 8 columns]"
      ]
     },
     "execution_count": 17,
     "metadata": {},
     "output_type": "execute_result"
    }
   ],
   "source": [
    "df"
   ]
  },
  {
   "cell_type": "code",
   "execution_count": 18,
   "id": "545753bd",
   "metadata": {},
   "outputs": [
    {
     "data": {
      "text/plain": [
       "state       0\n",
       "location    0\n",
       "type        0\n",
       "so2         0\n",
       "no2         0\n",
       "rspm        0\n",
       "spm         0\n",
       "date        0\n",
       "dtype: int64"
      ]
     },
     "execution_count": 18,
     "metadata": {},
     "output_type": "execute_result"
    }
   ],
   "source": [
    "df.isna().sum()"
   ]
  },
  {
   "cell_type": "markdown",
   "id": "e522a21b",
   "metadata": {},
   "source": [
    "\n",
    "# Data integration"
   ]
  },
  {
   "cell_type": "code",
   "execution_count": 19,
   "id": "5a17ec5a",
   "metadata": {},
   "outputs": [],
   "source": [
    "subSet1 = df[['state', 'type']]\n",
    "subSet2 = df[['state','location']]"
   ]
  },
  {
   "cell_type": "code",
   "execution_count": 20,
   "id": "49368e67",
   "metadata": {},
   "outputs": [
    {
     "data": {
      "text/html": [
       "<div>\n",
       "<style scoped>\n",
       "    .dataframe tbody tr th:only-of-type {\n",
       "        vertical-align: middle;\n",
       "    }\n",
       "\n",
       "    .dataframe tbody tr th {\n",
       "        vertical-align: top;\n",
       "    }\n",
       "\n",
       "    .dataframe thead th {\n",
       "        text-align: right;\n",
       "    }\n",
       "</style>\n",
       "<table border=\"1\" class=\"dataframe\">\n",
       "  <thead>\n",
       "    <tr style=\"text-align: right;\">\n",
       "      <th></th>\n",
       "      <th>state</th>\n",
       "      <th>type</th>\n",
       "    </tr>\n",
       "  </thead>\n",
       "  <tbody>\n",
       "    <tr>\n",
       "      <th>0</th>\n",
       "      <td>Andhra Pradesh</td>\n",
       "      <td>Residential, Rural and other Areas</td>\n",
       "    </tr>\n",
       "    <tr>\n",
       "      <th>1</th>\n",
       "      <td>Andhra Pradesh</td>\n",
       "      <td>Industrial Area</td>\n",
       "    </tr>\n",
       "    <tr>\n",
       "      <th>2</th>\n",
       "      <td>Andhra Pradesh</td>\n",
       "      <td>Residential, Rural and other Areas</td>\n",
       "    </tr>\n",
       "    <tr>\n",
       "      <th>3</th>\n",
       "      <td>Andhra Pradesh</td>\n",
       "      <td>Residential, Rural and other Areas</td>\n",
       "    </tr>\n",
       "    <tr>\n",
       "      <th>4</th>\n",
       "      <td>Andhra Pradesh</td>\n",
       "      <td>Industrial Area</td>\n",
       "    </tr>\n",
       "  </tbody>\n",
       "</table>\n",
       "</div>"
      ],
      "text/plain": [
       "            state                                type\n",
       "0  Andhra Pradesh  Residential, Rural and other Areas\n",
       "1  Andhra Pradesh                     Industrial Area\n",
       "2  Andhra Pradesh  Residential, Rural and other Areas\n",
       "3  Andhra Pradesh  Residential, Rural and other Areas\n",
       "4  Andhra Pradesh                     Industrial Area"
      ]
     },
     "execution_count": 20,
     "metadata": {},
     "output_type": "execute_result"
    }
   ],
   "source": [
    "subSet1.head()"
   ]
  },
  {
   "cell_type": "code",
   "execution_count": 21,
   "id": "71699203",
   "metadata": {},
   "outputs": [
    {
     "data": {
      "text/html": [
       "<div>\n",
       "<style scoped>\n",
       "    .dataframe tbody tr th:only-of-type {\n",
       "        vertical-align: middle;\n",
       "    }\n",
       "\n",
       "    .dataframe tbody tr th {\n",
       "        vertical-align: top;\n",
       "    }\n",
       "\n",
       "    .dataframe thead th {\n",
       "        text-align: right;\n",
       "    }\n",
       "</style>\n",
       "<table border=\"1\" class=\"dataframe\">\n",
       "  <thead>\n",
       "    <tr style=\"text-align: right;\">\n",
       "      <th></th>\n",
       "      <th>state</th>\n",
       "      <th>location</th>\n",
       "    </tr>\n",
       "  </thead>\n",
       "  <tbody>\n",
       "    <tr>\n",
       "      <th>0</th>\n",
       "      <td>Andhra Pradesh</td>\n",
       "      <td>Hyderabad</td>\n",
       "    </tr>\n",
       "    <tr>\n",
       "      <th>1</th>\n",
       "      <td>Andhra Pradesh</td>\n",
       "      <td>Hyderabad</td>\n",
       "    </tr>\n",
       "    <tr>\n",
       "      <th>2</th>\n",
       "      <td>Andhra Pradesh</td>\n",
       "      <td>Hyderabad</td>\n",
       "    </tr>\n",
       "    <tr>\n",
       "      <th>3</th>\n",
       "      <td>Andhra Pradesh</td>\n",
       "      <td>Hyderabad</td>\n",
       "    </tr>\n",
       "    <tr>\n",
       "      <th>4</th>\n",
       "      <td>Andhra Pradesh</td>\n",
       "      <td>Hyderabad</td>\n",
       "    </tr>\n",
       "  </tbody>\n",
       "</table>\n",
       "</div>"
      ],
      "text/plain": [
       "            state   location\n",
       "0  Andhra Pradesh  Hyderabad\n",
       "1  Andhra Pradesh  Hyderabad\n",
       "2  Andhra Pradesh  Hyderabad\n",
       "3  Andhra Pradesh  Hyderabad\n",
       "4  Andhra Pradesh  Hyderabad"
      ]
     },
     "execution_count": 21,
     "metadata": {},
     "output_type": "execute_result"
    }
   ],
   "source": [
    "subSet2.head()"
   ]
  },
  {
   "cell_type": "code",
   "execution_count": 22,
   "id": "3a56045d",
   "metadata": {},
   "outputs": [],
   "source": [
    "concatenated_df = pd.concat([subSet1, subSet2], axis=1)"
   ]
  },
  {
   "cell_type": "code",
   "execution_count": 23,
   "id": "49ebb013",
   "metadata": {},
   "outputs": [
    {
     "data": {
      "text/html": [
       "<div>\n",
       "<style scoped>\n",
       "    .dataframe tbody tr th:only-of-type {\n",
       "        vertical-align: middle;\n",
       "    }\n",
       "\n",
       "    .dataframe tbody tr th {\n",
       "        vertical-align: top;\n",
       "    }\n",
       "\n",
       "    .dataframe thead th {\n",
       "        text-align: right;\n",
       "    }\n",
       "</style>\n",
       "<table border=\"1\" class=\"dataframe\">\n",
       "  <thead>\n",
       "    <tr style=\"text-align: right;\">\n",
       "      <th></th>\n",
       "      <th>state</th>\n",
       "      <th>type</th>\n",
       "      <th>state</th>\n",
       "      <th>location</th>\n",
       "    </tr>\n",
       "  </thead>\n",
       "  <tbody>\n",
       "    <tr>\n",
       "      <th>0</th>\n",
       "      <td>Andhra Pradesh</td>\n",
       "      <td>Residential, Rural and other Areas</td>\n",
       "      <td>Andhra Pradesh</td>\n",
       "      <td>Hyderabad</td>\n",
       "    </tr>\n",
       "    <tr>\n",
       "      <th>1</th>\n",
       "      <td>Andhra Pradesh</td>\n",
       "      <td>Industrial Area</td>\n",
       "      <td>Andhra Pradesh</td>\n",
       "      <td>Hyderabad</td>\n",
       "    </tr>\n",
       "    <tr>\n",
       "      <th>2</th>\n",
       "      <td>Andhra Pradesh</td>\n",
       "      <td>Residential, Rural and other Areas</td>\n",
       "      <td>Andhra Pradesh</td>\n",
       "      <td>Hyderabad</td>\n",
       "    </tr>\n",
       "    <tr>\n",
       "      <th>3</th>\n",
       "      <td>Andhra Pradesh</td>\n",
       "      <td>Residential, Rural and other Areas</td>\n",
       "      <td>Andhra Pradesh</td>\n",
       "      <td>Hyderabad</td>\n",
       "    </tr>\n",
       "    <tr>\n",
       "      <th>4</th>\n",
       "      <td>Andhra Pradesh</td>\n",
       "      <td>Industrial Area</td>\n",
       "      <td>Andhra Pradesh</td>\n",
       "      <td>Hyderabad</td>\n",
       "    </tr>\n",
       "    <tr>\n",
       "      <th>...</th>\n",
       "      <td>...</td>\n",
       "      <td>...</td>\n",
       "      <td>...</td>\n",
       "      <td>...</td>\n",
       "    </tr>\n",
       "    <tr>\n",
       "      <th>435737</th>\n",
       "      <td>West Bengal</td>\n",
       "      <td>RIRUO</td>\n",
       "      <td>West Bengal</td>\n",
       "      <td>ULUBERIA</td>\n",
       "    </tr>\n",
       "    <tr>\n",
       "      <th>435738</th>\n",
       "      <td>West Bengal</td>\n",
       "      <td>RIRUO</td>\n",
       "      <td>West Bengal</td>\n",
       "      <td>ULUBERIA</td>\n",
       "    </tr>\n",
       "    <tr>\n",
       "      <th>435739</th>\n",
       "      <td>andaman-and-nicobar-islands</td>\n",
       "      <td>Residential, Rural and other Areas</td>\n",
       "      <td>andaman-and-nicobar-islands</td>\n",
       "      <td>Guwahati</td>\n",
       "    </tr>\n",
       "    <tr>\n",
       "      <th>435740</th>\n",
       "      <td>Lakshadweep</td>\n",
       "      <td>Residential, Rural and other Areas</td>\n",
       "      <td>Lakshadweep</td>\n",
       "      <td>Guwahati</td>\n",
       "    </tr>\n",
       "    <tr>\n",
       "      <th>435741</th>\n",
       "      <td>Tripura</td>\n",
       "      <td>Residential, Rural and other Areas</td>\n",
       "      <td>Tripura</td>\n",
       "      <td>Guwahati</td>\n",
       "    </tr>\n",
       "  </tbody>\n",
       "</table>\n",
       "<p>435068 rows × 4 columns</p>\n",
       "</div>"
      ],
      "text/plain": [
       "                              state                                type  \\\n",
       "0                    Andhra Pradesh  Residential, Rural and other Areas   \n",
       "1                    Andhra Pradesh                     Industrial Area   \n",
       "2                    Andhra Pradesh  Residential, Rural and other Areas   \n",
       "3                    Andhra Pradesh  Residential, Rural and other Areas   \n",
       "4                    Andhra Pradesh                     Industrial Area   \n",
       "...                             ...                                 ...   \n",
       "435737                  West Bengal                               RIRUO   \n",
       "435738                  West Bengal                               RIRUO   \n",
       "435739  andaman-and-nicobar-islands  Residential, Rural and other Areas   \n",
       "435740                  Lakshadweep  Residential, Rural and other Areas   \n",
       "435741                      Tripura  Residential, Rural and other Areas   \n",
       "\n",
       "                              state   location  \n",
       "0                    Andhra Pradesh  Hyderabad  \n",
       "1                    Andhra Pradesh  Hyderabad  \n",
       "2                    Andhra Pradesh  Hyderabad  \n",
       "3                    Andhra Pradesh  Hyderabad  \n",
       "4                    Andhra Pradesh  Hyderabad  \n",
       "...                             ...        ...  \n",
       "435737                  West Bengal   ULUBERIA  \n",
       "435738                  West Bengal   ULUBERIA  \n",
       "435739  andaman-and-nicobar-islands   Guwahati  \n",
       "435740                  Lakshadweep   Guwahati  \n",
       "435741                      Tripura   Guwahati  \n",
       "\n",
       "[435068 rows x 4 columns]"
      ]
     },
     "execution_count": 23,
     "metadata": {},
     "output_type": "execute_result"
    }
   ],
   "source": [
    "concatenated_df"
   ]
  },
  {
   "cell_type": "markdown",
   "id": "f7cc82bb",
   "metadata": {},
   "source": [
    "### Error Correcting"
   ]
  },
  {
   "cell_type": "code",
   "execution_count": 24,
   "id": "f853eda6",
   "metadata": {},
   "outputs": [],
   "source": [
    "def remove_outliers(column):\n",
    "    Q1 = column.quantile(0.25)\n",
    "    Q3 = column.quantile(0.75)\n",
    "    IQR = Q3 - Q1\n",
    "    threshold = 1.5 * IQR\n",
    "    outlier_mask = (column < Q1 - threshold) | (column > Q3 + threshold)\n",
    "    return column[~outlier_mask]"
   ]
  },
  {
   "cell_type": "code",
   "execution_count": 25,
   "id": "b7f69c40",
   "metadata": {},
   "outputs": [
    {
     "data": {
      "text/plain": [
       "Index(['state', 'location', 'type', 'so2', 'no2', 'rspm', 'spm', 'date'], dtype='object')"
      ]
     },
     "execution_count": 25,
     "metadata": {},
     "output_type": "execute_result"
    }
   ],
   "source": [
    "df.columns"
   ]
  },
  {
   "cell_type": "code",
   "execution_count": 26,
   "id": "2ed9106a",
   "metadata": {},
   "outputs": [],
   "source": [
    "# Remove outliers for each column using a loop\n",
    "col_name = ['so2', 'no2', 'rspm', 'spm']\n",
    "for col in col_name:\n",
    "    df[col] = remove_outliers(df[col])"
   ]
  },
  {
   "cell_type": "code",
   "execution_count": 27,
   "id": "ded044e3",
   "metadata": {},
   "outputs": [],
   "source": [
    "import seaborn as sns\n",
    "import matplotlib.pyplot as plt"
   ]
  },
  {
   "cell_type": "code",
   "execution_count": 28,
   "id": "41e0027f",
   "metadata": {},
   "outputs": [
    {
     "data": {
      "image/png": "[encoded data removed]",
      "text/plain": [
       "<Figure size 1000x600 with 1 Axes>"
      ]
     },
     "metadata": {},
     "output_type": "display_data"
    },
    {
     "data": {
      "image/png": "[encoded data removed]",
      "text/plain": [
       "<Figure size 640x480 with 1 Axes>"
      ]
     },
     "metadata": {},
     "output_type": "display_data"
    },
    {
     "data": {
      "image/png": "[encoded data removed]",
      "text/plain": [
       "<Figure size 640x480 with 1 Axes>"
      ]
     },
     "metadata": {},
     "output_type": "display_data"
    },
    {
     "data": {
      "image/png": "[encoded data removed]",
      "text/plain": [
       "<Figure size 640x480 with 1 Axes>"
      ]
     },
     "metadata": {},
     "output_type": "display_data"
    }
   ],
   "source": [
    "plt.figure(figsize=(10, 6))  # Adjust the figure size if needed\n",
    "\n",
    "for col in col_name:\n",
    "    sns.boxplot(data=df[col])\n",
    "    plt.title(col)\n",
    "    plt.show()"
   ]
  },
  {
   "cell_type": "markdown",
   "id": "45f8a4b5",
   "metadata": {},
   "source": [
    "## Data Transform"
   ]
  },
  {
   "cell_type": "code",
   "execution_count": 29,
   "id": "e8e83edc",
   "metadata": {},
   "outputs": [],
   "source": [
    "from sklearn.preprocessing import LabelEncoder\n",
    "\n",
    "col_label= ['state','location','type']\n",
    "# Initialize LabelEncoder\n",
    "\n",
    "encoder = LabelEncoder()\n",
    "# Iterate over columns\n",
    "for col in df.columns:\n",
    "        # Fit and transform the column\n",
    "        df[col] = encoder.fit_transform(df[col])"
   ]
  },
  {
   "cell_type": "code",
   "execution_count": 30,
   "id": "06778a90",
   "metadata": {},
   "outputs": [
    {
     "data": {
      "text/html": [
       "<div>\n",
       "<style scoped>\n",
       "    .dataframe tbody tr th:only-of-type {\n",
       "        vertical-align: middle;\n",
       "    }\n",
       "\n",
       "    .dataframe tbody tr th {\n",
       "        vertical-align: top;\n",
       "    }\n",
       "\n",
       "    .dataframe thead th {\n",
       "        text-align: right;\n",
       "    }\n",
       "</style>\n",
       "<table border=\"1\" class=\"dataframe\">\n",
       "  <thead>\n",
       "    <tr style=\"text-align: right;\">\n",
       "      <th></th>\n",
       "      <th>state</th>\n",
       "      <th>location</th>\n",
       "      <th>type</th>\n",
       "      <th>so2</th>\n",
       "      <th>no2</th>\n",
       "      <th>rspm</th>\n",
       "      <th>spm</th>\n",
       "      <th>date</th>\n",
       "    </tr>\n",
       "  </thead>\n",
       "  <tbody>\n",
       "    <tr>\n",
       "      <th>0</th>\n",
       "      <td>0</td>\n",
       "      <td>114</td>\n",
       "      <td>6</td>\n",
       "      <td>446</td>\n",
       "      <td>1489</td>\n",
       "      <td>2030</td>\n",
       "      <td>464</td>\n",
       "      <td>213</td>\n",
       "    </tr>\n",
       "    <tr>\n",
       "      <th>1</th>\n",
       "      <td>0</td>\n",
       "      <td>114</td>\n",
       "      <td>1</td>\n",
       "      <td>197</td>\n",
       "      <td>250</td>\n",
       "      <td>2030</td>\n",
       "      <td>464</td>\n",
       "      <td>213</td>\n",
       "    </tr>\n",
       "    <tr>\n",
       "      <th>2</th>\n",
       "      <td>0</td>\n",
       "      <td>114</td>\n",
       "      <td>6</td>\n",
       "      <td>790</td>\n",
       "      <td>3096</td>\n",
       "      <td>2030</td>\n",
       "      <td>464</td>\n",
       "      <td>213</td>\n",
       "    </tr>\n",
       "    <tr>\n",
       "      <th>3</th>\n",
       "      <td>0</td>\n",
       "      <td>114</td>\n",
       "      <td>6</td>\n",
       "      <td>823</td>\n",
       "      <td>1144</td>\n",
       "      <td>2030</td>\n",
       "      <td>464</td>\n",
       "      <td>214</td>\n",
       "    </tr>\n",
       "    <tr>\n",
       "      <th>4</th>\n",
       "      <td>0</td>\n",
       "      <td>114</td>\n",
       "      <td>1</td>\n",
       "      <td>427</td>\n",
       "      <td>301</td>\n",
       "      <td>2030</td>\n",
       "      <td>464</td>\n",
       "      <td>214</td>\n",
       "    </tr>\n",
       "    <tr>\n",
       "      <th>...</th>\n",
       "      <td>...</td>\n",
       "      <td>...</td>\n",
       "      <td>...</td>\n",
       "      <td>...</td>\n",
       "      <td>...</td>\n",
       "      <td>...</td>\n",
       "      <td>...</td>\n",
       "      <td>...</td>\n",
       "    </tr>\n",
       "    <tr>\n",
       "      <th>435737</th>\n",
       "      <td>35</td>\n",
       "      <td>282</td>\n",
       "      <td>3</td>\n",
       "      <td>2888</td>\n",
       "      <td>5307</td>\n",
       "      <td>2534</td>\n",
       "      <td>464</td>\n",
       "      <td>5059</td>\n",
       "    </tr>\n",
       "    <tr>\n",
       "      <th>435738</th>\n",
       "      <td>35</td>\n",
       "      <td>282</td>\n",
       "      <td>3</td>\n",
       "      <td>2809</td>\n",
       "      <td>5113</td>\n",
       "      <td>3098</td>\n",
       "      <td>464</td>\n",
       "      <td>5064</td>\n",
       "    </tr>\n",
       "    <tr>\n",
       "      <th>435739</th>\n",
       "      <td>36</td>\n",
       "      <td>100</td>\n",
       "      <td>6</td>\n",
       "      <td>1638</td>\n",
       "      <td>2696</td>\n",
       "      <td>2030</td>\n",
       "      <td>464</td>\n",
       "      <td>4779</td>\n",
       "    </tr>\n",
       "    <tr>\n",
       "      <th>435740</th>\n",
       "      <td>17</td>\n",
       "      <td>100</td>\n",
       "      <td>6</td>\n",
       "      <td>1638</td>\n",
       "      <td>2696</td>\n",
       "      <td>2030</td>\n",
       "      <td>464</td>\n",
       "      <td>4779</td>\n",
       "    </tr>\n",
       "    <tr>\n",
       "      <th>435741</th>\n",
       "      <td>31</td>\n",
       "      <td>100</td>\n",
       "      <td>6</td>\n",
       "      <td>1638</td>\n",
       "      <td>2696</td>\n",
       "      <td>2030</td>\n",
       "      <td>464</td>\n",
       "      <td>4779</td>\n",
       "    </tr>\n",
       "  </tbody>\n",
       "</table>\n",
       "<p>435068 rows × 8 columns</p>\n",
       "</div>"
      ],
      "text/plain": [
       "        state  location  type   so2   no2  rspm  spm  date\n",
       "0           0       114     6   446  1489  2030  464   213\n",
       "1           0       114     1   197   250  2030  464   213\n",
       "2           0       114     6   790  3096  2030  464   213\n",
       "3           0       114     6   823  1144  2030  464   214\n",
       "4           0       114     1   427   301  2030  464   214\n",
       "...       ...       ...   ...   ...   ...   ...  ...   ...\n",
       "435737     35       282     3  2888  5307  2534  464  5059\n",
       "435738     35       282     3  2809  5113  3098  464  5064\n",
       "435739     36       100     6  1638  2696  2030  464  4779\n",
       "435740     17       100     6  1638  2696  2030  464  4779\n",
       "435741     31       100     6  1638  2696  2030  464  4779\n",
       "\n",
       "[435068 rows x 8 columns]"
      ]
     },
     "execution_count": 30,
     "metadata": {},
     "output_type": "execute_result"
    }
   ],
   "source": [
    "df"
   ]
  },
  {
   "cell_type": "code",
   "execution_count": null,
   "id": "df5af7b8",
   "metadata": {},
   "outputs": [],
   "source": []
  }
 ],
 "metadata": {
  "kernelspec": {
   "display_name": "Python 3",
   "language": "python",
   "name": "python3"
  },
  "language_info": {
   "codemirror_mode": {
    "name": "ipython",
    "version": 3
   },
   "file_extension": ".py",
   "mimetype": "text/x-python",
   "name": "python",
   "nbconvert_exporter": "python",
   "pygments_lexer": "ipython3",
   "version": "3.11.9"
  }
 },
 "nbformat": 4,
 "nbformat_minor": 5
}
